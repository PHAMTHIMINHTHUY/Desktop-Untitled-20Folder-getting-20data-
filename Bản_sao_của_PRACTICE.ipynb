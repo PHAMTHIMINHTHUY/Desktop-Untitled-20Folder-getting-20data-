{
  "nbformat": 4,
  "nbformat_minor": 5,
  "metadata": {
    "kernelspec": {
      "display_name": "Python 3",
      "language": "python",
      "name": "python3"
    },
    "language_info": {
      "codemirror_mode": {
        "name": "ipython",
        "version": 3
      },
      "file_extension": ".py",
      "mimetype": "text/x-python",
      "name": "python",
      "nbconvert_exporter": "python",
      "pygments_lexer": "ipython3",
      "version": "3.8.8"
    },
    "colab": {
      "name": "Bản sao của PRACTICE.ipynb",
      "provenance": [],
      "include_colab_link": true
    }
  },
  "cells": [
    {
      "cell_type": "markdown",
      "metadata": {
        "id": "view-in-github",
        "colab_type": "text"
      },
      "source": [
        "<a href=\"https://colab.research.google.com/github/PHAMTHIMINHTHUY/Desktop-Untitled-20Folder-getting-20data-/blob/main/B%E1%BA%A3n_sao_c%E1%BB%A7a_PRACTICE.ipynb\" target=\"_parent\"><img src=\"https://colab.research.google.com/assets/colab-badge.svg\" alt=\"Open In Colab\"/></a>"
      ]
    },
    {
      "cell_type": "code",
      "metadata": {
        "id": "bb03338b"
      },
      "source": [
        "import pandas as pd\n",
        "import numpy as np"
      ],
      "id": "bb03338b",
      "execution_count": null,
      "outputs": []
    },
    {
      "cell_type": "code",
      "metadata": {
        "id": "0127045e"
      },
      "source": [
        "df = pd.read_csv(\"top50.tsv\",sep = \"\\t\") "
      ],
      "id": "0127045e",
      "execution_count": null,
      "outputs": []
    },
    {
      "cell_type": "code",
      "metadata": {
        "id": "3e6defb9",
        "outputId": "c461d848-bcca-41ce-b787-fe76e07efbdb"
      },
      "source": [
        "df.head()"
      ],
      "id": "3e6defb9",
      "execution_count": null,
      "outputs": [
        {
          "data": {
            "text/html": [
              "<div>\n",
              "<style scoped>\n",
              "    .dataframe tbody tr th:only-of-type {\n",
              "        vertical-align: middle;\n",
              "    }\n",
              "\n",
              "    .dataframe tbody tr th {\n",
              "        vertical-align: top;\n",
              "    }\n",
              "\n",
              "    .dataframe thead th {\n",
              "        text-align: right;\n",
              "    }\n",
              "</style>\n",
              "<table border=\"1\" class=\"dataframe\">\n",
              "  <thead>\n",
              "    <tr style=\"text-align: right;\">\n",
              "      <th></th>\n",
              "      <th>Track.Name</th>\n",
              "      <th>Artist.Name</th>\n",
              "      <th>Genre</th>\n",
              "    </tr>\n",
              "  </thead>\n",
              "  <tbody>\n",
              "    <tr>\n",
              "      <th>0</th>\n",
              "      <td>Seсorita</td>\n",
              "      <td>Shawn Mendes</td>\n",
              "      <td>canadian pop</td>\n",
              "    </tr>\n",
              "    <tr>\n",
              "      <th>1</th>\n",
              "      <td>China</td>\n",
              "      <td>Anuel AA</td>\n",
              "      <td>reggaeton flow</td>\n",
              "    </tr>\n",
              "    <tr>\n",
              "      <th>2</th>\n",
              "      <td>boyfriend (with Social House)</td>\n",
              "      <td>Ariana Grande</td>\n",
              "      <td>dance pop</td>\n",
              "    </tr>\n",
              "    <tr>\n",
              "      <th>3</th>\n",
              "      <td>Beautiful People (feat. Khalid)</td>\n",
              "      <td>Ed Sheeran</td>\n",
              "      <td>pop</td>\n",
              "    </tr>\n",
              "    <tr>\n",
              "      <th>4</th>\n",
              "      <td>Goodbyes (Feat. Young Thug)</td>\n",
              "      <td>Post Malone</td>\n",
              "      <td>dfw rap</td>\n",
              "    </tr>\n",
              "  </tbody>\n",
              "</table>\n",
              "</div>"
            ],
            "text/plain": [
              "                        Track.Name    Artist.Name           Genre\n",
              "0                         Seсorita   Shawn Mendes    canadian pop\n",
              "1                            China       Anuel AA  reggaeton flow\n",
              "2    boyfriend (with Social House)  Ariana Grande       dance pop\n",
              "3  Beautiful People (feat. Khalid)     Ed Sheeran             pop\n",
              "4      Goodbyes (Feat. Young Thug)    Post Malone         dfw rap"
            ]
          },
          "execution_count": 13,
          "metadata": {},
          "output_type": "execute_result"
        }
      ]
    },
    {
      "cell_type": "code",
      "metadata": {
        "id": "bc8bbb11",
        "outputId": "26c7a196-eaad-4a21-fc0e-d6030342bfb6"
      },
      "source": [
        "df.shape"
      ],
      "id": "bc8bbb11",
      "execution_count": null,
      "outputs": [
        {
          "data": {
            "text/plain": [
              "(50, 3)"
            ]
          },
          "execution_count": 14,
          "metadata": {},
          "output_type": "execute_result"
        }
      ]
    },
    {
      "cell_type": "code",
      "metadata": {
        "id": "5ea4ebd1",
        "outputId": "a715bc73-d176-48ae-f228-ffbbfb9cba88"
      },
      "source": [
        "df.info()"
      ],
      "id": "5ea4ebd1",
      "execution_count": null,
      "outputs": [
        {
          "name": "stdout",
          "output_type": "stream",
          "text": [
            "<class 'pandas.core.frame.DataFrame'>\n",
            "RangeIndex: 50 entries, 0 to 49\n",
            "Data columns (total 3 columns):\n",
            " #   Column       Non-Null Count  Dtype \n",
            "---  ------       --------------  ----- \n",
            " 0   Track.Name   50 non-null     object\n",
            " 1   Artist.Name  50 non-null     object\n",
            " 2   Genre        50 non-null     object\n",
            "dtypes: object(3)\n",
            "memory usage: 1.3+ KB\n"
          ]
        }
      ]
    },
    {
      "cell_type": "code",
      "metadata": {
        "id": "ab1909f0",
        "outputId": "acef53b9-aa11-45b2-b681-4e91ca2dc27a"
      },
      "source": [
        "list(df.columns)"
      ],
      "id": "ab1909f0",
      "execution_count": null,
      "outputs": [
        {
          "data": {
            "text/plain": [
              "['Track.Name', 'Artist.Name', 'Genre']"
            ]
          },
          "execution_count": 16,
          "metadata": {},
          "output_type": "execute_result"
        }
      ]
    },
    {
      "cell_type": "code",
      "metadata": {
        "id": "eaa87c68",
        "outputId": "a0a8b87b-356f-4313-fc35-0b50a292f4ad"
      },
      "source": [
        " df.index"
      ],
      "id": "eaa87c68",
      "execution_count": null,
      "outputs": [
        {
          "data": {
            "text/plain": [
              "RangeIndex(start=0, stop=50, step=1)"
            ]
          },
          "execution_count": 17,
          "metadata": {},
          "output_type": "execute_result"
        }
      ]
    },
    {
      "cell_type": "code",
      "metadata": {
        "id": "0f7e8625",
        "outputId": "3ea69ca2-83c3-4cc6-dfae-ef70d7b3d188"
      },
      "source": [
        "df.describe()"
      ],
      "id": "0f7e8625",
      "execution_count": null,
      "outputs": [
        {
          "data": {
            "text/html": [
              "<div>\n",
              "<style scoped>\n",
              "    .dataframe tbody tr th:only-of-type {\n",
              "        vertical-align: middle;\n",
              "    }\n",
              "\n",
              "    .dataframe tbody tr th {\n",
              "        vertical-align: top;\n",
              "    }\n",
              "\n",
              "    .dataframe thead th {\n",
              "        text-align: right;\n",
              "    }\n",
              "</style>\n",
              "<table border=\"1\" class=\"dataframe\">\n",
              "  <thead>\n",
              "    <tr style=\"text-align: right;\">\n",
              "      <th></th>\n",
              "      <th>Track.Name</th>\n",
              "      <th>Artist.Name</th>\n",
              "      <th>Genre</th>\n",
              "    </tr>\n",
              "  </thead>\n",
              "  <tbody>\n",
              "    <tr>\n",
              "      <th>count</th>\n",
              "      <td>50</td>\n",
              "      <td>50</td>\n",
              "      <td>50</td>\n",
              "    </tr>\n",
              "    <tr>\n",
              "      <th>unique</th>\n",
              "      <td>50</td>\n",
              "      <td>38</td>\n",
              "      <td>21</td>\n",
              "    </tr>\n",
              "    <tr>\n",
              "      <th>top</th>\n",
              "      <td>Ransom</td>\n",
              "      <td>Ed Sheeran</td>\n",
              "      <td>dance pop</td>\n",
              "    </tr>\n",
              "    <tr>\n",
              "      <th>freq</th>\n",
              "      <td>1</td>\n",
              "      <td>4</td>\n",
              "      <td>8</td>\n",
              "    </tr>\n",
              "  </tbody>\n",
              "</table>\n",
              "</div>"
            ],
            "text/plain": [
              "       Track.Name Artist.Name      Genre\n",
              "count          50          50         50\n",
              "unique         50          38         21\n",
              "top        Ransom  Ed Sheeran  dance pop\n",
              "freq            1           4          8"
            ]
          },
          "execution_count": 18,
          "metadata": {},
          "output_type": "execute_result"
        }
      ]
    },
    {
      "cell_type": "code",
      "metadata": {
        "id": "39742a71",
        "outputId": "cf0bee2e-a394-4438-87fb-c3de0d959c3d"
      },
      "source": [
        "df.describe(include=\"all\")"
      ],
      "id": "39742a71",
      "execution_count": null,
      "outputs": [
        {
          "data": {
            "text/html": [
              "<div>\n",
              "<style scoped>\n",
              "    .dataframe tbody tr th:only-of-type {\n",
              "        vertical-align: middle;\n",
              "    }\n",
              "\n",
              "    .dataframe tbody tr th {\n",
              "        vertical-align: top;\n",
              "    }\n",
              "\n",
              "    .dataframe thead th {\n",
              "        text-align: right;\n",
              "    }\n",
              "</style>\n",
              "<table border=\"1\" class=\"dataframe\">\n",
              "  <thead>\n",
              "    <tr style=\"text-align: right;\">\n",
              "      <th></th>\n",
              "      <th>Track.Name</th>\n",
              "      <th>Artist.Name</th>\n",
              "      <th>Genre</th>\n",
              "    </tr>\n",
              "  </thead>\n",
              "  <tbody>\n",
              "    <tr>\n",
              "      <th>count</th>\n",
              "      <td>50</td>\n",
              "      <td>50</td>\n",
              "      <td>50</td>\n",
              "    </tr>\n",
              "    <tr>\n",
              "      <th>unique</th>\n",
              "      <td>50</td>\n",
              "      <td>38</td>\n",
              "      <td>21</td>\n",
              "    </tr>\n",
              "    <tr>\n",
              "      <th>top</th>\n",
              "      <td>Ransom</td>\n",
              "      <td>Ed Sheeran</td>\n",
              "      <td>dance pop</td>\n",
              "    </tr>\n",
              "    <tr>\n",
              "      <th>freq</th>\n",
              "      <td>1</td>\n",
              "      <td>4</td>\n",
              "      <td>8</td>\n",
              "    </tr>\n",
              "  </tbody>\n",
              "</table>\n",
              "</div>"
            ],
            "text/plain": [
              "       Track.Name Artist.Name      Genre\n",
              "count          50          50         50\n",
              "unique         50          38         21\n",
              "top        Ransom  Ed Sheeran  dance pop\n",
              "freq            1           4          8"
            ]
          },
          "execution_count": 19,
          "metadata": {},
          "output_type": "execute_result"
        }
      ]
    },
    {
      "cell_type": "code",
      "metadata": {
        "id": "eaff6d1c",
        "outputId": "ef43c4b3-d47a-4215-84f4-50807cb87a21"
      },
      "source": [
        "df.head()"
      ],
      "id": "eaff6d1c",
      "execution_count": null,
      "outputs": [
        {
          "data": {
            "text/html": [
              "<div>\n",
              "<style scoped>\n",
              "    .dataframe tbody tr th:only-of-type {\n",
              "        vertical-align: middle;\n",
              "    }\n",
              "\n",
              "    .dataframe tbody tr th {\n",
              "        vertical-align: top;\n",
              "    }\n",
              "\n",
              "    .dataframe thead th {\n",
              "        text-align: right;\n",
              "    }\n",
              "</style>\n",
              "<table border=\"1\" class=\"dataframe\">\n",
              "  <thead>\n",
              "    <tr style=\"text-align: right;\">\n",
              "      <th></th>\n",
              "      <th>Track.Name</th>\n",
              "      <th>Artist.Name</th>\n",
              "      <th>Genre</th>\n",
              "    </tr>\n",
              "  </thead>\n",
              "  <tbody>\n",
              "    <tr>\n",
              "      <th>0</th>\n",
              "      <td>Seсorita</td>\n",
              "      <td>Shawn Mendes</td>\n",
              "      <td>canadian pop</td>\n",
              "    </tr>\n",
              "    <tr>\n",
              "      <th>1</th>\n",
              "      <td>China</td>\n",
              "      <td>Anuel AA</td>\n",
              "      <td>reggaeton flow</td>\n",
              "    </tr>\n",
              "    <tr>\n",
              "      <th>2</th>\n",
              "      <td>boyfriend (with Social House)</td>\n",
              "      <td>Ariana Grande</td>\n",
              "      <td>dance pop</td>\n",
              "    </tr>\n",
              "    <tr>\n",
              "      <th>3</th>\n",
              "      <td>Beautiful People (feat. Khalid)</td>\n",
              "      <td>Ed Sheeran</td>\n",
              "      <td>pop</td>\n",
              "    </tr>\n",
              "    <tr>\n",
              "      <th>4</th>\n",
              "      <td>Goodbyes (Feat. Young Thug)</td>\n",
              "      <td>Post Malone</td>\n",
              "      <td>dfw rap</td>\n",
              "    </tr>\n",
              "  </tbody>\n",
              "</table>\n",
              "</div>"
            ],
            "text/plain": [
              "                        Track.Name    Artist.Name           Genre\n",
              "0                         Seсorita   Shawn Mendes    canadian pop\n",
              "1                            China       Anuel AA  reggaeton flow\n",
              "2    boyfriend (with Social House)  Ariana Grande       dance pop\n",
              "3  Beautiful People (feat. Khalid)     Ed Sheeran             pop\n",
              "4      Goodbyes (Feat. Young Thug)    Post Malone         dfw rap"
            ]
          },
          "execution_count": 20,
          "metadata": {},
          "output_type": "execute_result"
        }
      ]
    },
    {
      "cell_type": "code",
      "metadata": {
        "id": "efeb9e67",
        "outputId": "1f36d963-239c-4399-ac06-81f1076b2a00"
      },
      "source": [
        "df.loc[(df['Track.Name']  == 'Panini')] "
      ],
      "id": "efeb9e67",
      "execution_count": null,
      "outputs": [
        {
          "data": {
            "text/html": [
              "<div>\n",
              "<style scoped>\n",
              "    .dataframe tbody tr th:only-of-type {\n",
              "        vertical-align: middle;\n",
              "    }\n",
              "\n",
              "    .dataframe tbody tr th {\n",
              "        vertical-align: top;\n",
              "    }\n",
              "\n",
              "    .dataframe thead th {\n",
              "        text-align: right;\n",
              "    }\n",
              "</style>\n",
              "<table border=\"1\" class=\"dataframe\">\n",
              "  <thead>\n",
              "    <tr style=\"text-align: right;\">\n",
              "      <th></th>\n",
              "      <th>Track.Name</th>\n",
              "      <th>Artist.Name</th>\n",
              "      <th>Genre</th>\n",
              "    </tr>\n",
              "  </thead>\n",
              "  <tbody>\n",
              "    <tr>\n",
              "      <th>21</th>\n",
              "      <td>Panini</td>\n",
              "      <td>Lil Nas X</td>\n",
              "      <td>country rap</td>\n",
              "    </tr>\n",
              "  </tbody>\n",
              "</table>\n",
              "</div>"
            ],
            "text/plain": [
              "   Track.Name Artist.Name        Genre\n",
              "21     Panini   Lil Nas X  country rap"
            ]
          },
          "execution_count": 35,
          "metadata": {},
          "output_type": "execute_result"
        }
      ]
    },
    {
      "cell_type": "code",
      "metadata": {
        "id": "ece01501",
        "outputId": "16e45b8c-9c68-4ae0-acf5-034326886366"
      },
      "source": [
        "df.iloc[[23]]"
      ],
      "id": "ece01501",
      "execution_count": null,
      "outputs": [
        {
          "data": {
            "text/html": [
              "<div>\n",
              "<style scoped>\n",
              "    .dataframe tbody tr th:only-of-type {\n",
              "        vertical-align: middle;\n",
              "    }\n",
              "\n",
              "    .dataframe tbody tr th {\n",
              "        vertical-align: top;\n",
              "    }\n",
              "\n",
              "    .dataframe thead th {\n",
              "        text-align: right;\n",
              "    }\n",
              "</style>\n",
              "<table border=\"1\" class=\"dataframe\">\n",
              "  <thead>\n",
              "    <tr style=\"text-align: right;\">\n",
              "      <th></th>\n",
              "      <th>Track.Name</th>\n",
              "      <th>Artist.Name</th>\n",
              "      <th>Genre</th>\n",
              "    </tr>\n",
              "  </thead>\n",
              "  <tbody>\n",
              "    <tr>\n",
              "      <th>23</th>\n",
              "      <td>Soltera - Remix</td>\n",
              "      <td>Lunay</td>\n",
              "      <td>latin</td>\n",
              "    </tr>\n",
              "  </tbody>\n",
              "</table>\n",
              "</div>"
            ],
            "text/plain": [
              "         Track.Name Artist.Name  Genre\n",
              "23  Soltera - Remix       Lunay  latin"
            ]
          },
          "execution_count": 36,
          "metadata": {},
          "output_type": "execute_result"
        }
      ]
    },
    {
      "cell_type": "code",
      "metadata": {
        "id": "ae9e4c69",
        "outputId": "7160179e-5207-4db5-baa9-f5b6d6a1eb3c"
      },
      "source": [
        "df.iloc[12:24]"
      ],
      "id": "ae9e4c69",
      "execution_count": null,
      "outputs": [
        {
          "data": {
            "text/html": [
              "<div>\n",
              "<style scoped>\n",
              "    .dataframe tbody tr th:only-of-type {\n",
              "        vertical-align: middle;\n",
              "    }\n",
              "\n",
              "    .dataframe tbody tr th {\n",
              "        vertical-align: top;\n",
              "    }\n",
              "\n",
              "    .dataframe thead th {\n",
              "        text-align: right;\n",
              "    }\n",
              "</style>\n",
              "<table border=\"1\" class=\"dataframe\">\n",
              "  <thead>\n",
              "    <tr style=\"text-align: right;\">\n",
              "      <th></th>\n",
              "      <th>Track.Name</th>\n",
              "      <th>Artist.Name</th>\n",
              "      <th>Genre</th>\n",
              "    </tr>\n",
              "  </thead>\n",
              "  <tbody>\n",
              "    <tr>\n",
              "      <th>12</th>\n",
              "      <td>Someone You Loved</td>\n",
              "      <td>Lewis Capaldi</td>\n",
              "      <td>pop</td>\n",
              "    </tr>\n",
              "    <tr>\n",
              "      <th>13</th>\n",
              "      <td>Otro Trago - Remix</td>\n",
              "      <td>Sech</td>\n",
              "      <td>panamanian pop</td>\n",
              "    </tr>\n",
              "    <tr>\n",
              "      <th>14</th>\n",
              "      <td>Money In The Grave (Drake ft. Rick Ross)</td>\n",
              "      <td>Drake</td>\n",
              "      <td>canadian hip hop</td>\n",
              "    </tr>\n",
              "    <tr>\n",
              "      <th>15</th>\n",
              "      <td>No Guidance (feat. Drake)</td>\n",
              "      <td>Chris Brown</td>\n",
              "      <td>dance pop</td>\n",
              "    </tr>\n",
              "    <tr>\n",
              "      <th>16</th>\n",
              "      <td>LA CANCIУN</td>\n",
              "      <td>J Balvin</td>\n",
              "      <td>latin</td>\n",
              "    </tr>\n",
              "    <tr>\n",
              "      <th>17</th>\n",
              "      <td>Sunflower - Spider-Man: Into the Spider-Verse</td>\n",
              "      <td>Post Malone</td>\n",
              "      <td>dfw rap</td>\n",
              "    </tr>\n",
              "    <tr>\n",
              "      <th>18</th>\n",
              "      <td>Lalala</td>\n",
              "      <td>Y2K</td>\n",
              "      <td>canadian hip hop</td>\n",
              "    </tr>\n",
              "    <tr>\n",
              "      <th>19</th>\n",
              "      <td>Truth Hurts</td>\n",
              "      <td>Lizzo</td>\n",
              "      <td>escape room</td>\n",
              "    </tr>\n",
              "    <tr>\n",
              "      <th>20</th>\n",
              "      <td>Piece Of Your Heart</td>\n",
              "      <td>MEDUZA</td>\n",
              "      <td>pop house</td>\n",
              "    </tr>\n",
              "    <tr>\n",
              "      <th>21</th>\n",
              "      <td>Panini</td>\n",
              "      <td>Lil Nas X</td>\n",
              "      <td>country rap</td>\n",
              "    </tr>\n",
              "    <tr>\n",
              "      <th>22</th>\n",
              "      <td>No Me Conoce - Remix</td>\n",
              "      <td>Jhay Cortez</td>\n",
              "      <td>reggaeton flow</td>\n",
              "    </tr>\n",
              "    <tr>\n",
              "      <th>23</th>\n",
              "      <td>Soltera - Remix</td>\n",
              "      <td>Lunay</td>\n",
              "      <td>latin</td>\n",
              "    </tr>\n",
              "  </tbody>\n",
              "</table>\n",
              "</div>"
            ],
            "text/plain": [
              "                                       Track.Name    Artist.Name  \\\n",
              "12                              Someone You Loved  Lewis Capaldi   \n",
              "13                             Otro Trago - Remix           Sech   \n",
              "14       Money In The Grave (Drake ft. Rick Ross)          Drake   \n",
              "15                      No Guidance (feat. Drake)    Chris Brown   \n",
              "16                                     LA CANCIУN       J Balvin   \n",
              "17  Sunflower - Spider-Man: Into the Spider-Verse    Post Malone   \n",
              "18                                         Lalala            Y2K   \n",
              "19                                    Truth Hurts          Lizzo   \n",
              "20                            Piece Of Your Heart         MEDUZA   \n",
              "21                                         Panini      Lil Nas X   \n",
              "22                           No Me Conoce - Remix    Jhay Cortez   \n",
              "23                                Soltera - Remix          Lunay   \n",
              "\n",
              "               Genre  \n",
              "12               pop  \n",
              "13    panamanian pop  \n",
              "14  canadian hip hop  \n",
              "15         dance pop  \n",
              "16             latin  \n",
              "17           dfw rap  \n",
              "18  canadian hip hop  \n",
              "19       escape room  \n",
              "20         pop house  \n",
              "21       country rap  \n",
              "22    reggaeton flow  \n",
              "23             latin  "
            ]
          },
          "execution_count": 38,
          "metadata": {},
          "output_type": "execute_result"
        }
      ]
    },
    {
      "cell_type": "code",
      "metadata": {
        "id": "9a3f7ab1",
        "outputId": "0eba0c83-fae7-4423-832c-e0ccff45c597"
      },
      "source": [
        "group_df= df[[\"Artist.Name\",\"Genre\"]] \n",
        "group_df"
      ],
      "id": "9a3f7ab1",
      "execution_count": null,
      "outputs": [
        {
          "data": {
            "text/html": [
              "<div>\n",
              "<style scoped>\n",
              "    .dataframe tbody tr th:only-of-type {\n",
              "        vertical-align: middle;\n",
              "    }\n",
              "\n",
              "    .dataframe tbody tr th {\n",
              "        vertical-align: top;\n",
              "    }\n",
              "\n",
              "    .dataframe thead th {\n",
              "        text-align: right;\n",
              "    }\n",
              "</style>\n",
              "<table border=\"1\" class=\"dataframe\">\n",
              "  <thead>\n",
              "    <tr style=\"text-align: right;\">\n",
              "      <th></th>\n",
              "      <th>Artist.Name</th>\n",
              "      <th>Genre</th>\n",
              "    </tr>\n",
              "  </thead>\n",
              "  <tbody>\n",
              "    <tr>\n",
              "      <th>0</th>\n",
              "      <td>Shawn Mendes</td>\n",
              "      <td>canadian pop</td>\n",
              "    </tr>\n",
              "    <tr>\n",
              "      <th>1</th>\n",
              "      <td>Anuel AA</td>\n",
              "      <td>reggaeton flow</td>\n",
              "    </tr>\n",
              "    <tr>\n",
              "      <th>2</th>\n",
              "      <td>Ariana Grande</td>\n",
              "      <td>dance pop</td>\n",
              "    </tr>\n",
              "    <tr>\n",
              "      <th>3</th>\n",
              "      <td>Ed Sheeran</td>\n",
              "      <td>pop</td>\n",
              "    </tr>\n",
              "    <tr>\n",
              "      <th>4</th>\n",
              "      <td>Post Malone</td>\n",
              "      <td>dfw rap</td>\n",
              "    </tr>\n",
              "    <tr>\n",
              "      <th>5</th>\n",
              "      <td>Ed Sheeran</td>\n",
              "      <td>pop</td>\n",
              "    </tr>\n",
              "    <tr>\n",
              "      <th>6</th>\n",
              "      <td>Lil Tecca</td>\n",
              "      <td>trap music</td>\n",
              "    </tr>\n",
              "    <tr>\n",
              "      <th>7</th>\n",
              "      <td>Sam Smith</td>\n",
              "      <td>pop</td>\n",
              "    </tr>\n",
              "    <tr>\n",
              "      <th>8</th>\n",
              "      <td>Lil Nas X</td>\n",
              "      <td>country rap</td>\n",
              "    </tr>\n",
              "    <tr>\n",
              "      <th>9</th>\n",
              "      <td>Billie Eilish</td>\n",
              "      <td>electropop</td>\n",
              "    </tr>\n",
              "    <tr>\n",
              "      <th>10</th>\n",
              "      <td>Bad Bunny</td>\n",
              "      <td>reggaeton</td>\n",
              "    </tr>\n",
              "    <tr>\n",
              "      <th>11</th>\n",
              "      <td>DJ Snake</td>\n",
              "      <td>dance pop</td>\n",
              "    </tr>\n",
              "    <tr>\n",
              "      <th>12</th>\n",
              "      <td>Lewis Capaldi</td>\n",
              "      <td>pop</td>\n",
              "    </tr>\n",
              "    <tr>\n",
              "      <th>13</th>\n",
              "      <td>Sech</td>\n",
              "      <td>panamanian pop</td>\n",
              "    </tr>\n",
              "    <tr>\n",
              "      <th>14</th>\n",
              "      <td>Drake</td>\n",
              "      <td>canadian hip hop</td>\n",
              "    </tr>\n",
              "    <tr>\n",
              "      <th>15</th>\n",
              "      <td>Chris Brown</td>\n",
              "      <td>dance pop</td>\n",
              "    </tr>\n",
              "    <tr>\n",
              "      <th>16</th>\n",
              "      <td>J Balvin</td>\n",
              "      <td>latin</td>\n",
              "    </tr>\n",
              "    <tr>\n",
              "      <th>17</th>\n",
              "      <td>Post Malone</td>\n",
              "      <td>dfw rap</td>\n",
              "    </tr>\n",
              "    <tr>\n",
              "      <th>18</th>\n",
              "      <td>Y2K</td>\n",
              "      <td>canadian hip hop</td>\n",
              "    </tr>\n",
              "    <tr>\n",
              "      <th>19</th>\n",
              "      <td>Lizzo</td>\n",
              "      <td>escape room</td>\n",
              "    </tr>\n",
              "    <tr>\n",
              "      <th>20</th>\n",
              "      <td>MEDUZA</td>\n",
              "      <td>pop house</td>\n",
              "    </tr>\n",
              "    <tr>\n",
              "      <th>21</th>\n",
              "      <td>Lil Nas X</td>\n",
              "      <td>country rap</td>\n",
              "    </tr>\n",
              "    <tr>\n",
              "      <th>22</th>\n",
              "      <td>Jhay Cortez</td>\n",
              "      <td>reggaeton flow</td>\n",
              "    </tr>\n",
              "    <tr>\n",
              "      <th>23</th>\n",
              "      <td>Lunay</td>\n",
              "      <td>latin</td>\n",
              "    </tr>\n",
              "    <tr>\n",
              "      <th>24</th>\n",
              "      <td>Billie Eilish</td>\n",
              "      <td>electropop</td>\n",
              "    </tr>\n",
              "    <tr>\n",
              "      <th>25</th>\n",
              "      <td>Shawn Mendes</td>\n",
              "      <td>canadian pop</td>\n",
              "    </tr>\n",
              "    <tr>\n",
              "      <th>26</th>\n",
              "      <td>Tones and I</td>\n",
              "      <td>australian pop</td>\n",
              "    </tr>\n",
              "    <tr>\n",
              "      <th>27</th>\n",
              "      <td>Ali Gatie</td>\n",
              "      <td>canadian hip hop</td>\n",
              "    </tr>\n",
              "    <tr>\n",
              "      <th>28</th>\n",
              "      <td>Daddy Yankee</td>\n",
              "      <td>latin</td>\n",
              "    </tr>\n",
              "    <tr>\n",
              "      <th>29</th>\n",
              "      <td>J Balvin</td>\n",
              "      <td>latin</td>\n",
              "    </tr>\n",
              "    <tr>\n",
              "      <th>30</th>\n",
              "      <td>The Chainsmokers</td>\n",
              "      <td>edm</td>\n",
              "    </tr>\n",
              "    <tr>\n",
              "      <th>31</th>\n",
              "      <td>Ariana Grande</td>\n",
              "      <td>dance pop</td>\n",
              "    </tr>\n",
              "    <tr>\n",
              "      <th>32</th>\n",
              "      <td>Maluma</td>\n",
              "      <td>reggaeton</td>\n",
              "    </tr>\n",
              "    <tr>\n",
              "      <th>33</th>\n",
              "      <td>Young Thug</td>\n",
              "      <td>atl hip hop</td>\n",
              "    </tr>\n",
              "    <tr>\n",
              "      <th>34</th>\n",
              "      <td>Katy Perry</td>\n",
              "      <td>dance pop</td>\n",
              "    </tr>\n",
              "    <tr>\n",
              "      <th>35</th>\n",
              "      <td>Martin Garrix</td>\n",
              "      <td>big room</td>\n",
              "    </tr>\n",
              "    <tr>\n",
              "      <th>36</th>\n",
              "      <td>Sech</td>\n",
              "      <td>panamanian pop</td>\n",
              "    </tr>\n",
              "    <tr>\n",
              "      <th>37</th>\n",
              "      <td>Ed Sheeran</td>\n",
              "      <td>pop</td>\n",
              "    </tr>\n",
              "    <tr>\n",
              "      <th>38</th>\n",
              "      <td>Jonas Brothers</td>\n",
              "      <td>boy band</td>\n",
              "    </tr>\n",
              "    <tr>\n",
              "      <th>39</th>\n",
              "      <td>Lauv</td>\n",
              "      <td>dance pop</td>\n",
              "    </tr>\n",
              "    <tr>\n",
              "      <th>40</th>\n",
              "      <td>Kygo</td>\n",
              "      <td>edm</td>\n",
              "    </tr>\n",
              "    <tr>\n",
              "      <th>41</th>\n",
              "      <td>Taylor Swift</td>\n",
              "      <td>dance pop</td>\n",
              "    </tr>\n",
              "    <tr>\n",
              "      <th>42</th>\n",
              "      <td>Lady Gaga</td>\n",
              "      <td>dance pop</td>\n",
              "    </tr>\n",
              "    <tr>\n",
              "      <th>43</th>\n",
              "      <td>Khalid</td>\n",
              "      <td>pop</td>\n",
              "    </tr>\n",
              "    <tr>\n",
              "      <th>44</th>\n",
              "      <td>ROSALНA</td>\n",
              "      <td>r&amp;b en espanol</td>\n",
              "    </tr>\n",
              "    <tr>\n",
              "      <th>45</th>\n",
              "      <td>Marshmello</td>\n",
              "      <td>brostep</td>\n",
              "    </tr>\n",
              "    <tr>\n",
              "      <th>46</th>\n",
              "      <td>Nicky Jam</td>\n",
              "      <td>latin</td>\n",
              "    </tr>\n",
              "    <tr>\n",
              "      <th>47</th>\n",
              "      <td>Marshmello</td>\n",
              "      <td>brostep</td>\n",
              "    </tr>\n",
              "    <tr>\n",
              "      <th>48</th>\n",
              "      <td>The Chainsmokers</td>\n",
              "      <td>edm</td>\n",
              "    </tr>\n",
              "    <tr>\n",
              "      <th>49</th>\n",
              "      <td>Ed Sheeran</td>\n",
              "      <td>pop</td>\n",
              "    </tr>\n",
              "  </tbody>\n",
              "</table>\n",
              "</div>"
            ],
            "text/plain": [
              "         Artist.Name             Genre\n",
              "0       Shawn Mendes      canadian pop\n",
              "1           Anuel AA    reggaeton flow\n",
              "2      Ariana Grande         dance pop\n",
              "3         Ed Sheeran               pop\n",
              "4        Post Malone           dfw rap\n",
              "5         Ed Sheeran               pop\n",
              "6          Lil Tecca        trap music\n",
              "7          Sam Smith               pop\n",
              "8          Lil Nas X       country rap\n",
              "9      Billie Eilish        electropop\n",
              "10         Bad Bunny         reggaeton\n",
              "11          DJ Snake         dance pop\n",
              "12     Lewis Capaldi               pop\n",
              "13              Sech    panamanian pop\n",
              "14             Drake  canadian hip hop\n",
              "15       Chris Brown         dance pop\n",
              "16          J Balvin             latin\n",
              "17       Post Malone           dfw rap\n",
              "18               Y2K  canadian hip hop\n",
              "19             Lizzo       escape room\n",
              "20            MEDUZA         pop house\n",
              "21         Lil Nas X       country rap\n",
              "22       Jhay Cortez    reggaeton flow\n",
              "23             Lunay             latin\n",
              "24     Billie Eilish        electropop\n",
              "25      Shawn Mendes      canadian pop\n",
              "26       Tones and I    australian pop\n",
              "27         Ali Gatie  canadian hip hop\n",
              "28      Daddy Yankee             latin\n",
              "29          J Balvin             latin\n",
              "30  The Chainsmokers               edm\n",
              "31     Ariana Grande         dance pop\n",
              "32            Maluma         reggaeton\n",
              "33        Young Thug       atl hip hop\n",
              "34        Katy Perry         dance pop\n",
              "35     Martin Garrix          big room\n",
              "36              Sech    panamanian pop\n",
              "37        Ed Sheeran               pop\n",
              "38    Jonas Brothers          boy band\n",
              "39              Lauv         dance pop\n",
              "40              Kygo               edm\n",
              "41      Taylor Swift         dance pop\n",
              "42         Lady Gaga         dance pop\n",
              "43            Khalid               pop\n",
              "44           ROSALНA    r&b en espanol\n",
              "45        Marshmello           brostep\n",
              "46         Nicky Jam             latin\n",
              "47        Marshmello           brostep\n",
              "48  The Chainsmokers               edm\n",
              "49        Ed Sheeran               pop"
            ]
          },
          "execution_count": 43,
          "metadata": {},
          "output_type": "execute_result"
        }
      ]
    },
    {
      "cell_type": "code",
      "metadata": {
        "id": "dc7fa535",
        "outputId": "29ed794e-dfbf-417f-a6a2-9eace3026675"
      },
      "source": [
        "group_df=group_df.groupby(\"Genre\").size()\n",
        "group_df"
      ],
      "id": "dc7fa535",
      "execution_count": null,
      "outputs": [
        {
          "data": {
            "text/plain": [
              "Genre\n",
              "atl hip hop         1\n",
              "australian pop      1\n",
              "big room            1\n",
              "boy band            1\n",
              "brostep             2\n",
              "canadian hip hop    3\n",
              "canadian pop        2\n",
              "country rap         2\n",
              "dance pop           8\n",
              "dfw rap             2\n",
              "edm                 3\n",
              "electropop          2\n",
              "escape room         1\n",
              "latin               5\n",
              "panamanian pop      2\n",
              "pop                 7\n",
              "pop house           1\n",
              "r&b en espanol      1\n",
              "reggaeton           2\n",
              "reggaeton flow      2\n",
              "trap music          1\n",
              "dtype: int64"
            ]
          },
          "execution_count": 44,
          "metadata": {},
          "output_type": "execute_result"
        }
      ]
    },
    {
      "cell_type": "code",
      "metadata": {
        "id": "0ddcb228",
        "outputId": "8c8b76fd-1877-482e-b97c-8ffb331691f3"
      },
      "source": [
        "group_df.plot.pie(subplots=True,figsize=(10,10)) "
      ],
      "id": "0ddcb228",
      "execution_count": null,
      "outputs": [
        {
          "data": {
            "text/plain": [
              "array([<AxesSubplot:ylabel='None'>], dtype=object)"
            ]
          },
          "execution_count": 48,
          "metadata": {},
          "output_type": "execute_result"
        },
        {
          "data": {
            "image/png": "[encoded data removed]",
            "text/plain": [
              "<Figure size 720x720 with 1 Axes>"
            ]
          },
          "metadata": {},
          "output_type": "display_data"
        }
      ]
    },
    {
      "cell_type": "code",
      "metadata": {
        "id": "e6326e09",
        "outputId": "a5194b8d-41a6-4d39-a808-4a630f660bc3"
      },
      "source": [
        "X = df.iloc[3:5,:-1]\n",
        "Y= df.iloc[3:5,-1]\n",
        "print(Y)"
      ],
      "id": "e6326e09",
      "execution_count": null,
      "outputs": [
        {
          "name": "stdout",
          "output_type": "stream",
          "text": [
            "3        pop\n",
            "4    dfw rap\n",
            "Name: Genre, dtype: object\n"
          ]
        }
      ]
    },
    {
      "cell_type": "code",
      "metadata": {
        "id": "63b0d118",
        "outputId": "8f8f7754-e980-4a2b-a801-66fdbafe8e45"
      },
      "source": [
        "c = df.groupby(\"Artist.Name\")[\"Genre\"].sum()\n",
        "c.sort_values(ascending = False).head(5)"
      ],
      "id": "63b0d118",
      "execution_count": null,
      "outputs": [
        {
          "data": {
            "text/plain": [
              "Artist.Name\n",
              "Lil Tecca          trap music\n",
              "Anuel AA       reggaeton flow\n",
              "Jhay Cortez    reggaeton flow\n",
              "Bad Bunny           reggaeton\n",
              "Maluma              reggaeton\n",
              "Name: Genre, dtype: object"
            ]
          },
          "execution_count": 50,
          "metadata": {},
          "output_type": "execute_result"
        }
      ]
    },
    {
      "cell_type": "code",
      "metadata": {
        "id": "9179c08d",
        "outputId": "136e3583-1681-4c30-8a75-8ac59cf01d54"
      },
      "source": [
        "df.Genre.value_counts().count()"
      ],
      "id": "9179c08d",
      "execution_count": null,
      "outputs": [
        {
          "data": {
            "text/plain": [
              "21"
            ]
          },
          "execution_count": 53,
          "metadata": {},
          "output_type": "execute_result"
        }
      ]
    },
    {
      "cell_type": "code",
      "metadata": {
        "id": "eddaa3a2",
        "outputId": "a15c0632-e965-495d-8d05-612e753fc26c"
      },
      "source": [
        "df.Genre.nunique()"
      ],
      "id": "eddaa3a2",
      "execution_count": null,
      "outputs": [
        {
          "data": {
            "text/plain": [
              "21"
            ]
          },
          "execution_count": 54,
          "metadata": {},
          "output_type": "execute_result"
        }
      ]
    },
    {
      "cell_type": "code",
      "metadata": {
        "id": "79194904"
      },
      "source": [
        ""
      ],
      "id": "79194904",
      "execution_count": null,
      "outputs": []
    }
  ]
}